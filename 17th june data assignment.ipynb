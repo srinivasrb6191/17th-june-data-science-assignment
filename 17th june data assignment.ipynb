{
 "cells": [
  {
   "cell_type": "markdown",
   "id": "8f9e508f",
   "metadata": {},
   "source": [
    "###### 1. What is the role of try and exception block?\n",
    "Ans: The try and except block is a control structure designed to handle exceptions or errors that may occur during the execution of a program.\n",
    "\n",
    "1 Try Block: The code that might raise an exception is placed within the try block. When the interpreter encounters a try block, it attempts to execute the statements within it.\n",
    "\n",
    "2 Except Block: If an exception occurs during the execution of the try block, the interpreter looks for an appropriate except block that can handle that particular type of exception. If a matching except block is found, the code within that block is executed. The except block allows the program to respond to the exception gracefully, which could involve logging the error, notifying the user, or taking other corrective actions.\n",
    "\n",
    "2. What is the syntax for a basic try-except block?\n",
    "\n",
    "Ans: The 'try' keyword starts the try block, which contains the code that might raise an exception.The 'except' keyword defines the except block, which specifies the code to execute if a particular type of exception occurs."
   ]
  },
  {
   "cell_type": "code",
   "execution_count": 1,
   "id": "e2a06baa",
   "metadata": {},
   "outputs": [],
   "source": [
    "# Example\n",
    "def divide_numbers(x, y):\n",
    "    try:\n",
    "        result = x / y\n",
    "        return result\n",
    "    except ZeroDivisionError:\n",
    "        print(\"Error: Division by zero!\")\n",
    "        return None"
   ]
  },
  {
   "cell_type": "code",
   "execution_count": 2,
   "id": "4b8bdd1f",
   "metadata": {},
   "outputs": [
    {
     "name": "stdout",
     "output_type": "stream",
     "text": [
      "Error: Division by zero!\n",
      "Cannot compute result due to division by zero\n"
     ]
    }
   ],
   "source": [
    "num1 = 10\n",
    "num2 = 0\n",
    "\n",
    "result = divide_numbers(num1, num2)\n",
    "if result is not None:\n",
    "    print(f\"The result of dividing {num1} by {num2} is {result}\")\n",
    "else:\n",
    "    print(\"Cannot compute result due to division by zero\")"
   ]
  },
  {
   "cell_type": "markdown",
   "id": "ccc4e02f",
   "metadata": {},
   "source": [
    "###### 3. What happens if an exception occurs inside a try block and there is no matching except block?\n",
    "Ans: If an exception occurs inside a try block and there is no matching except block to handle that specific type of exception, the program will terminate abruptly, and an unhandled exception error will be raised. This error message typically includes information about the type of exception that occurred and where it happened in the code.\n",
    "\n",
    "#4. What is the difference between using a bare except block and specifying a specific exception type?\n",
    "\n",
    "Ans: The primary distinction between using a bare 'except' block and specifying a particular exception type lies in the level of detail and control over the exceptions handled within the 'try-except' block.\n",
    "\n",
    "When using a bare 'except; block, meaning an 'except:' without naming a specific exception type, the block will catch any exception that derives from BaseException, which includes most built-in exceptions. This can lead to unintended consequences since it may mask important details about the nature of the exception, making it difficult to diagnose and fix problems\n",
    "\n",
    "On the other hand, when you specify a particular exception type, such as 'except KeyError:' or 'except ValueError:', the block will only catch instances of that specified exception. This provides a clear indication of the kind of error that occurred, allowing for targeted responses and potentially more meaningful error messages\n",
    "\n",
    "#5. Can you have nested try-except blocks in Python? If yes, then give an example.\n",
    "\n",
    "Ans: Yes, I have nested try-except blocks in Python. This means I have a try block inside another try block, and each try block can have its own set of except blocks to handle exceptions locally."
   ]
  },
  {
   "cell_type": "code",
   "execution_count": 3,
   "id": "0a4e3100",
   "metadata": {},
   "outputs": [
    {
     "name": "stdout",
     "output_type": "stream",
     "text": [
      "Enter a number: 7\n",
      "Result of division: 1.4285714285714286\n"
     ]
    }
   ],
   "source": [
    "try:\n",
    "    # Outer try block\n",
    "    x = int(input(\"Enter a number: \"))\n",
    "    try:\n",
    "        # Inner try block\n",
    "        result = 10 / x\n",
    "        print(\"Result of division:\", result)\n",
    "    except ZeroDivisionError:\n",
    "        # Inner except block\n",
    "        print(\"Error: Division by zero!\")\n",
    "except ValueError:\n",
    "    # Outer except block\n",
    "    print(\"Error: Input must be an integer.\")"
   ]
  },
  {
   "cell_type": "markdown",
   "id": "4ce64e0a",
   "metadata": {},
   "source": [
    "###### 6. Can we use multiple exception blocks, if yes then give an example.\n",
    "\n",
    "Ans: Yes, we can use multiple except blocks in a try-except statement in Python. This allows you to handle different types of exceptions separately."
   ]
  },
  {
   "cell_type": "code",
   "execution_count": 4,
   "id": "063c9132",
   "metadata": {},
   "outputs": [
    {
     "name": "stdout",
     "output_type": "stream",
     "text": [
      "Enter the numerator: 55\n",
      "Enter the denominator: 8\n",
      "Result of division: 6.875\n"
     ]
    }
   ],
   "source": [
    "try:\n",
    "    num1 = int(input(\"Enter the numerator: \"))\n",
    "    num2 = int(input(\"Enter the denominator: \"))\n",
    "    \n",
    "    result = num1 / num2\n",
    "    \n",
    "    print(\"Result of division:\", result)\n",
    "    \n",
    "except ValueError:\n",
    "    print(\"Error: Please enter valid integers.\")\n",
    "    \n",
    "except ZeroDivisionError:\n",
    "    print(\"Error: Division by zero!\")\n",
    "    \n",
    "except Exception as e:\n",
    "    \n",
    "    print(\"An unexpected error occurred:\", e)"
   ]
  },
  {
   "cell_type": "markdown",
   "id": "cae92e09",
   "metadata": {},
   "source": [
    "##### 7. Write the reason due to which following errors are raised:\n",
    "a. EOFError: This error is raised when the input() function reaches the end of the file and there is no more data to read.\n",
    "\n",
    "b. FloatingPointError: This error is raised when a floating-point calculation fails to produce a valid result. This can happen when dividing by zero or when the result is too large or too small to be represented as a floating-point number\n",
    "\n",
    "c. IndexError: This error is raised when trying to access an index that is out of range for a sequence, such as a list or a string.\n",
    "\n",
    "d. MemoryError: This error is raised when the Python interpreter runs out of memory to allocate for new objects.\n",
    "\n",
    "e. OverflowError: This error is raised when a calculation produces a result that is too large to be represented as an integer.\n",
    "\n",
    "f. TabError: This error is raised when there is a problem with the indentation of a block of code. It usually occurs when mixing tabs and spaces for indentation.\n",
    "\n",
    "g. ValueError: This error is raised when a function or method receives an argument that has the correct type but an inappropriate value. For example, passing a negative value to the 'sqrt()' function would raise a 'ValueError' since the square root of a negative number is undefined in the real number system.\n"
   ]
  },
  {
   "cell_type": "markdown",
   "id": "48345206",
   "metadata": {},
   "source": [
    "###### 8. Write code for the following given scenario and add try-exception block to it.\n",
    "a. Program to divide two numbers"
   ]
  },
  {
   "cell_type": "code",
   "execution_count": 5,
   "id": "d4c9b314",
   "metadata": {},
   "outputs": [
    {
     "name": "stdout",
     "output_type": "stream",
     "text": [
      "2.0\n"
     ]
    }
   ],
   "source": [
    "def devide_numbers(x,y):\n",
    "    try:\n",
    "        result = x/y\n",
    "        return result\n",
    "    \n",
    "    except ZeroDivisionError:\n",
    "        print(\"Error: Division by zero!\")\n",
    "        return None\n",
    "    \n",
    "result = divide_numbers(10,5)\n",
    "print(result)"
   ]
  },
  {
   "cell_type": "markdown",
   "id": "6e2b3154",
   "metadata": {},
   "source": [
    "#### c. Program to access an element in a list"
   ]
  },
  {
   "cell_type": "code",
   "execution_count": 6,
   "id": "e15c5470",
   "metadata": {},
   "outputs": [
    {
     "data": {
      "text/plain": [
       "50"
      ]
     },
     "execution_count": 6,
     "metadata": {},
     "output_type": "execute_result"
    }
   ],
   "source": [
    "def access_element_in_list(lst, index):\n",
    "    try:\n",
    "        value = lst[index]\n",
    "        return value\n",
    "    except IndexError:\n",
    "        print(\"Error: Index out of range.\")\n",
    "        return None\n",
    "    \n",
    "my_list = [10, 20, 30, 40, 50]\n",
    "index = 4\n",
    "access_element_in_list(my_list, index)"
   ]
  },
  {
   "cell_type": "markdown",
   "id": "e48cade4",
   "metadata": {},
   "source": [
    "#### d. Program to handle a specific exception"
   ]
  },
  {
   "cell_type": "code",
   "execution_count": 7,
   "id": "8dece71f",
   "metadata": {},
   "outputs": [
    {
     "name": "stdout",
     "output_type": "stream",
     "text": [
      "Error: Key 'd' not found in the dictionary.\n",
      "No value found for key 'd' due to error.\n"
     ]
    }
   ],
   "source": [
    "def get_value_from_dict(dictionary, key):\n",
    "    try:\n",
    "        value = dictionary[key]\n",
    "        return value\n",
    "    except KeyError:\n",
    "        print(f\"Error: Key '{key}' not found in the dictionary.\")\n",
    "        return None\n",
    "\n",
    "# Example usage:\n",
    "my_dict = {'a': 1, 'b': 2, 'c': 3}\n",
    "key_to_find = 'd'\n",
    "\n",
    "result = get_value_from_dict(my_dict, key_to_find)\n",
    "\n",
    "if result is not None:\n",
    "    print(f\"The value associated with key '{key_to_find}' is: {result}\")\n",
    "else:\n",
    "    print(f\"No value found for key '{key_to_find}' due to error.\")"
   ]
  },
  {
   "cell_type": "markdown",
   "id": "93c3f890",
   "metadata": {},
   "source": [
    "#### e. Program to handle any exception"
   ]
  },
  {
   "cell_type": "code",
   "execution_count": 8,
   "id": "d0c6ce8a",
   "metadata": {},
   "outputs": [
    {
     "name": "stdout",
     "output_type": "stream",
     "text": [
      "An error occurred: division by zero\n",
      "Cannot compute result due to an error\n"
     ]
    }
   ],
   "source": [
    "def divide_numbers(x, y):\n",
    "    try:\n",
    "        result = x / y\n",
    "        return result\n",
    "    except Exception as e:\n",
    "        print(f\"An error occurred: {e}\")\n",
    "        return None\n",
    "\n",
    "# Example usage:\n",
    "num1 = 10\n",
    "num2 = 0\n",
    "\n",
    "result = divide_numbers(num1, num2)\n",
    "if result is not None:\n",
    "    print(f\"The result of dividing {num1} by {num2} is {result}\")\n",
    "else:\n",
    "    print(\"Cannot compute result due to an error\")"
   ]
  },
  {
   "cell_type": "code",
   "execution_count": null,
   "id": "e55ba44f",
   "metadata": {},
   "outputs": [],
   "source": []
  }
 ],
 "metadata": {
  "kernelspec": {
   "display_name": "Python 3 (ipykernel)",
   "language": "python",
   "name": "python3"
  },
  "language_info": {
   "codemirror_mode": {
    "name": "ipython",
    "version": 3
   },
   "file_extension": ".py",
   "mimetype": "text/x-python",
   "name": "python",
   "nbconvert_exporter": "python",
   "pygments_lexer": "ipython3",
   "version": "3.10.9"
  }
 },
 "nbformat": 4,
 "nbformat_minor": 5
}
